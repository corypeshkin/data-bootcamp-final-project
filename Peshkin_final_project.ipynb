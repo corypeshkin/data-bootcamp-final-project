{
 "cells": [
  {
   "cell_type": "markdown",
   "metadata": {},
   "source": [
    "# Cory Peshkin Final Project\n",
    "## Data Bootcamp"
   ]
  },
  {
   "cell_type": "markdown",
   "metadata": {},
   "source": [
    "### Importing necessary files and libraries"
   ]
  },
  {
   "cell_type": "code",
   "execution_count": 1,
   "metadata": {},
   "outputs": [],
   "source": [
    "import os\n",
    "import time\n",
    "import pandas as pd\n",
    "import numpy as np\n",
    "from datetime import datetime\n",
    "import matplotlib.pyplot as plt\n",
    "import matplotlib.dates as mdates\n",
    "from matplotlib import gridspec"
   ]
  },
  {
   "cell_type": "code",
   "execution_count": 2,
   "metadata": {},
   "outputs": [],
   "source": [
    "atickerspath = \"~/Desktop/Jupyter/Final/a_share_tickers50.xlsx\"\n",
    "htickerspath = \"~/Desktop/Jupyter/Final/h_share_tickers50.xlsx\"\n",
    "a_indexsnaps = \"~/Desktop/Jupyter/Final/a_index_snap50.xlsx\"\n",
    "h_indexsnaps = \"~/Desktop/Jupyter/Final/h_index_snap50.xlsx\"\n",
    "spotfxpath = \"~/Desktop/Jupyter/Final/spot_fx_quotes.xlsx\""
   ]
  },
  {
   "cell_type": "code",
   "execution_count": 3,
   "metadata": {},
   "outputs": [],
   "source": [
    "a_tickers = pd.read_excel(atickerspath)\n",
    "h_tickers = pd.read_excel(htickerspath)\n",
    "fx_quotes = pd.read_excel(spotfxpath)\n",
    "a_snaps = pd.read_excel(a_indexsnaps)\n",
    "h_snaps = pd.read_excel(h_indexsnaps)"
   ]
  },
  {
   "cell_type": "code",
   "execution_count": 4,
   "metadata": {},
   "outputs": [
    {
     "data": {
      "text/html": [
       "<div>\n",
       "<style scoped>\n",
       "    .dataframe tbody tr th:only-of-type {\n",
       "        vertical-align: middle;\n",
       "    }\n",
       "\n",
       "    .dataframe tbody tr th {\n",
       "        vertical-align: top;\n",
       "    }\n",
       "\n",
       "    .dataframe thead th {\n",
       "        text-align: right;\n",
       "    }\n",
       "</style>\n",
       "<table border=\"1\" class=\"dataframe\">\n",
       "  <thead>\n",
       "    <tr style=\"text-align: right;\">\n",
       "      <th></th>\n",
       "      <th>601939 CH Equity</th>\n",
       "      <th>601398 CH Equity</th>\n",
       "      <th>601857 CH Equity</th>\n",
       "      <th>601318 CH Equity</th>\n",
       "      <th>601988 CH Equity</th>\n",
       "      <th>600030 CH Equity</th>\n",
       "      <th>601998 CH Equity</th>\n",
       "      <th>600036 CH Equity</th>\n",
       "      <th>600016 CH Equity</th>\n",
       "      <th>601088 CH Equity</th>\n",
       "      <th>...</th>\n",
       "      <th>600958 CH Equity.2</th>\n",
       "      <th>600808 CH Equity.2</th>\n",
       "      <th>600332 CH Equity.2</th>\n",
       "      <th>600999 CH Equity.2</th>\n",
       "      <th>601788 CH Equity.2</th>\n",
       "      <th>600027 CH Equity.2</th>\n",
       "      <th>601107 CH Equity.2</th>\n",
       "      <th>600026 CH Equity.2</th>\n",
       "      <th>601319 CH Equity.2</th>\n",
       "      <th>601228 CH Equity.2</th>\n",
       "    </tr>\n",
       "  </thead>\n",
       "  <tbody>\n",
       "    <tr>\n",
       "      <th>NaN</th>\n",
       "      <td>Official Closing Price</td>\n",
       "      <td>Official Closing Price</td>\n",
       "      <td>Official Closing Price</td>\n",
       "      <td>Official Closing Price</td>\n",
       "      <td>Official Closing Price</td>\n",
       "      <td>Official Closing Price</td>\n",
       "      <td>Official Closing Price</td>\n",
       "      <td>Official Closing Price</td>\n",
       "      <td>Official Closing Price</td>\n",
       "      <td>Official Closing Price</td>\n",
       "      <td>...</td>\n",
       "      <td>Free Float Percent</td>\n",
       "      <td>Free Float Percent</td>\n",
       "      <td>Free Float Percent</td>\n",
       "      <td>Free Float Percent</td>\n",
       "      <td>Free Float Percent</td>\n",
       "      <td>Free Float Percent</td>\n",
       "      <td>Free Float Percent</td>\n",
       "      <td>Free Float Percent</td>\n",
       "      <td>Free Float Percent</td>\n",
       "      <td>Free Float Percent</td>\n",
       "    </tr>\n",
       "    <tr>\n",
       "      <th>Dates</th>\n",
       "      <td>PX_OFFICIAL_CLOSE</td>\n",
       "      <td>PX_OFFICIAL_CLOSE</td>\n",
       "      <td>PX_OFFICIAL_CLOSE</td>\n",
       "      <td>PX_OFFICIAL_CLOSE</td>\n",
       "      <td>PX_OFFICIAL_CLOSE</td>\n",
       "      <td>PX_OFFICIAL_CLOSE</td>\n",
       "      <td>PX_OFFICIAL_CLOSE</td>\n",
       "      <td>PX_OFFICIAL_CLOSE</td>\n",
       "      <td>PX_OFFICIAL_CLOSE</td>\n",
       "      <td>PX_OFFICIAL_CLOSE</td>\n",
       "      <td>...</td>\n",
       "      <td>EQY_FREE_FLOAT_PCT</td>\n",
       "      <td>EQY_FREE_FLOAT_PCT</td>\n",
       "      <td>EQY_FREE_FLOAT_PCT</td>\n",
       "      <td>EQY_FREE_FLOAT_PCT</td>\n",
       "      <td>EQY_FREE_FLOAT_PCT</td>\n",
       "      <td>EQY_FREE_FLOAT_PCT</td>\n",
       "      <td>EQY_FREE_FLOAT_PCT</td>\n",
       "      <td>EQY_FREE_FLOAT_PCT</td>\n",
       "      <td>EQY_FREE_FLOAT_PCT</td>\n",
       "      <td>EQY_FREE_FLOAT_PCT</td>\n",
       "    </tr>\n",
       "    <tr>\n",
       "      <th>2012-05-21 00:00:00</th>\n",
       "      <td>NaN</td>\n",
       "      <td>NaN</td>\n",
       "      <td>NaN</td>\n",
       "      <td>NaN</td>\n",
       "      <td>NaN</td>\n",
       "      <td>NaN</td>\n",
       "      <td>NaN</td>\n",
       "      <td>NaN</td>\n",
       "      <td>NaN</td>\n",
       "      <td>NaN</td>\n",
       "      <td>...</td>\n",
       "      <td>NaN</td>\n",
       "      <td>34.8761</td>\n",
       "      <td>26.2956</td>\n",
       "      <td>19.9208</td>\n",
       "      <td>20.6558</td>\n",
       "      <td>19.2761</td>\n",
       "      <td>25.3098</td>\n",
       "      <td>25.0102</td>\n",
       "      <td>NaN</td>\n",
       "      <td>NaN</td>\n",
       "    </tr>\n",
       "    <tr>\n",
       "      <th>2012-05-22 00:00:00</th>\n",
       "      <td>4.54</td>\n",
       "      <td>4.23</td>\n",
       "      <td>9.56</td>\n",
       "      <td>21.285</td>\n",
       "      <td>2.99</td>\n",
       "      <td>13.3</td>\n",
       "      <td>4.34</td>\n",
       "      <td>11.585</td>\n",
       "      <td>4.611</td>\n",
       "      <td>26.26</td>\n",
       "      <td>...</td>\n",
       "      <td>NaN</td>\n",
       "      <td>34.8761</td>\n",
       "      <td>26.2956</td>\n",
       "      <td>19.9208</td>\n",
       "      <td>20.6558</td>\n",
       "      <td>19.2761</td>\n",
       "      <td>25.3098</td>\n",
       "      <td>25.0102</td>\n",
       "      <td>NaN</td>\n",
       "      <td>NaN</td>\n",
       "    </tr>\n",
       "    <tr>\n",
       "      <th>2012-05-23 00:00:00</th>\n",
       "      <td>4.5</td>\n",
       "      <td>4.18</td>\n",
       "      <td>9.56</td>\n",
       "      <td>21.105</td>\n",
       "      <td>2.99</td>\n",
       "      <td>13.6</td>\n",
       "      <td>4.29</td>\n",
       "      <td>11.516</td>\n",
       "      <td>4.549</td>\n",
       "      <td>25.93</td>\n",
       "      <td>...</td>\n",
       "      <td>NaN</td>\n",
       "      <td>34.8761</td>\n",
       "      <td>26.2956</td>\n",
       "      <td>19.9208</td>\n",
       "      <td>20.6558</td>\n",
       "      <td>19.2761</td>\n",
       "      <td>25.3098</td>\n",
       "      <td>25.0102</td>\n",
       "      <td>NaN</td>\n",
       "      <td>NaN</td>\n",
       "    </tr>\n",
       "  </tbody>\n",
       "</table>\n",
       "<p>5 rows × 219 columns</p>\n",
       "</div>"
      ],
      "text/plain": [
       "                           601939 CH Equity        601398 CH Equity  \\\n",
       "NaN                  Official Closing Price  Official Closing Price   \n",
       "Dates                     PX_OFFICIAL_CLOSE       PX_OFFICIAL_CLOSE   \n",
       "2012-05-21 00:00:00                     NaN                     NaN   \n",
       "2012-05-22 00:00:00                    4.54                    4.23   \n",
       "2012-05-23 00:00:00                     4.5                    4.18   \n",
       "\n",
       "                           601857 CH Equity        601318 CH Equity  \\\n",
       "NaN                  Official Closing Price  Official Closing Price   \n",
       "Dates                     PX_OFFICIAL_CLOSE       PX_OFFICIAL_CLOSE   \n",
       "2012-05-21 00:00:00                     NaN                     NaN   \n",
       "2012-05-22 00:00:00                    9.56                  21.285   \n",
       "2012-05-23 00:00:00                    9.56                  21.105   \n",
       "\n",
       "                           601988 CH Equity        600030 CH Equity  \\\n",
       "NaN                  Official Closing Price  Official Closing Price   \n",
       "Dates                     PX_OFFICIAL_CLOSE       PX_OFFICIAL_CLOSE   \n",
       "2012-05-21 00:00:00                     NaN                     NaN   \n",
       "2012-05-22 00:00:00                    2.99                    13.3   \n",
       "2012-05-23 00:00:00                    2.99                    13.6   \n",
       "\n",
       "                           601998 CH Equity        600036 CH Equity  \\\n",
       "NaN                  Official Closing Price  Official Closing Price   \n",
       "Dates                     PX_OFFICIAL_CLOSE       PX_OFFICIAL_CLOSE   \n",
       "2012-05-21 00:00:00                     NaN                     NaN   \n",
       "2012-05-22 00:00:00                    4.34                  11.585   \n",
       "2012-05-23 00:00:00                    4.29                  11.516   \n",
       "\n",
       "                           600016 CH Equity        601088 CH Equity  \\\n",
       "NaN                  Official Closing Price  Official Closing Price   \n",
       "Dates                     PX_OFFICIAL_CLOSE       PX_OFFICIAL_CLOSE   \n",
       "2012-05-21 00:00:00                     NaN                     NaN   \n",
       "2012-05-22 00:00:00                   4.611                   26.26   \n",
       "2012-05-23 00:00:00                   4.549                   25.93   \n",
       "\n",
       "                            ...          600958 CH Equity.2  \\\n",
       "NaN                         ...          Free Float Percent   \n",
       "Dates                       ...          EQY_FREE_FLOAT_PCT   \n",
       "2012-05-21 00:00:00         ...                         NaN   \n",
       "2012-05-22 00:00:00         ...                         NaN   \n",
       "2012-05-23 00:00:00         ...                         NaN   \n",
       "\n",
       "                     600808 CH Equity.2  600332 CH Equity.2  \\\n",
       "NaN                  Free Float Percent  Free Float Percent   \n",
       "Dates                EQY_FREE_FLOAT_PCT  EQY_FREE_FLOAT_PCT   \n",
       "2012-05-21 00:00:00             34.8761             26.2956   \n",
       "2012-05-22 00:00:00             34.8761             26.2956   \n",
       "2012-05-23 00:00:00             34.8761             26.2956   \n",
       "\n",
       "                     600999 CH Equity.2  601788 CH Equity.2  \\\n",
       "NaN                  Free Float Percent  Free Float Percent   \n",
       "Dates                EQY_FREE_FLOAT_PCT  EQY_FREE_FLOAT_PCT   \n",
       "2012-05-21 00:00:00             19.9208             20.6558   \n",
       "2012-05-22 00:00:00             19.9208             20.6558   \n",
       "2012-05-23 00:00:00             19.9208             20.6558   \n",
       "\n",
       "                     600027 CH Equity.2  601107 CH Equity.2  \\\n",
       "NaN                  Free Float Percent  Free Float Percent   \n",
       "Dates                EQY_FREE_FLOAT_PCT  EQY_FREE_FLOAT_PCT   \n",
       "2012-05-21 00:00:00             19.2761             25.3098   \n",
       "2012-05-22 00:00:00             19.2761             25.3098   \n",
       "2012-05-23 00:00:00             19.2761             25.3098   \n",
       "\n",
       "                     600026 CH Equity.2  601319 CH Equity.2  \\\n",
       "NaN                  Free Float Percent  Free Float Percent   \n",
       "Dates                EQY_FREE_FLOAT_PCT  EQY_FREE_FLOAT_PCT   \n",
       "2012-05-21 00:00:00             25.0102                 NaN   \n",
       "2012-05-22 00:00:00             25.0102                 NaN   \n",
       "2012-05-23 00:00:00             25.0102                 NaN   \n",
       "\n",
       "                     601228 CH Equity.2  \n",
       "NaN                  Free Float Percent  \n",
       "Dates                EQY_FREE_FLOAT_PCT  \n",
       "2012-05-21 00:00:00                 NaN  \n",
       "2012-05-22 00:00:00                 NaN  \n",
       "2012-05-23 00:00:00                 NaN  \n",
       "\n",
       "[5 rows x 219 columns]"
      ]
     },
     "execution_count": 4,
     "metadata": {},
     "output_type": "execute_result"
    }
   ],
   "source": [
    "a_tickers.head()"
   ]
  },
  {
   "cell_type": "code",
   "execution_count": 5,
   "metadata": {},
   "outputs": [
    {
     "data": {
      "text/plain": [
       "NaN                    Current Shares Outstanding\n",
       "Dates                                  EQY_SH_OUT\n",
       "2012-05-21 00:00:00                       9838.58\n",
       "2012-05-22 00:00:00                       9838.58\n",
       "Name: 600030 CH Equity.1, dtype: object"
      ]
     },
     "execution_count": 5,
     "metadata": {},
     "output_type": "execute_result"
    }
   ],
   "source": [
    "a_tickers['600030 CH Equity.1'].head(4)"
   ]
  },
  {
   "cell_type": "markdown",
   "metadata": {},
   "source": [
    "### Cleaning the data"
   ]
  },
  {
   "cell_type": "code",
   "execution_count": 6,
   "metadata": {},
   "outputs": [],
   "source": [
    "a_tickers = a_tickers.iloc[2:]\n",
    "h_tickers = h_tickers.iloc[2:]\n",
    "a_tickers = a_tickers.fillna(0)\n",
    "h_tickers = h_tickers.fillna(0)"
   ]
  },
  {
   "cell_type": "code",
   "execution_count": 7,
   "metadata": {},
   "outputs": [
    {
     "data": {
      "text/html": [
       "<div>\n",
       "<style scoped>\n",
       "    .dataframe tbody tr th:only-of-type {\n",
       "        vertical-align: middle;\n",
       "    }\n",
       "\n",
       "    .dataframe tbody tr th {\n",
       "        vertical-align: top;\n",
       "    }\n",
       "\n",
       "    .dataframe thead th {\n",
       "        text-align: right;\n",
       "    }\n",
       "</style>\n",
       "<table border=\"1\" class=\"dataframe\">\n",
       "  <thead>\n",
       "    <tr style=\"text-align: right;\">\n",
       "      <th></th>\n",
       "      <th>601939 CH Equity</th>\n",
       "      <th>601398 CH Equity</th>\n",
       "      <th>601857 CH Equity</th>\n",
       "      <th>601318 CH Equity</th>\n",
       "      <th>601988 CH Equity</th>\n",
       "      <th>600030 CH Equity</th>\n",
       "      <th>601998 CH Equity</th>\n",
       "      <th>600036 CH Equity</th>\n",
       "      <th>600016 CH Equity</th>\n",
       "      <th>601088 CH Equity</th>\n",
       "      <th>...</th>\n",
       "      <th>600958 CH Equity</th>\n",
       "      <th>600808 CH Equity</th>\n",
       "      <th>600332 CH Equity</th>\n",
       "      <th>600999 CH Equity</th>\n",
       "      <th>601788 CH Equity</th>\n",
       "      <th>600027 CH Equity</th>\n",
       "      <th>601107 CH Equity</th>\n",
       "      <th>600026 CH Equity</th>\n",
       "      <th>601319 CH Equity</th>\n",
       "      <th>601228 CH Equity</th>\n",
       "    </tr>\n",
       "  </thead>\n",
       "  <tbody>\n",
       "    <tr>\n",
       "      <th>2012-05-21 00:00:00</th>\n",
       "      <td>0.00</td>\n",
       "      <td>0.00</td>\n",
       "      <td>0.00</td>\n",
       "      <td>0.000</td>\n",
       "      <td>0.00</td>\n",
       "      <td>0.00</td>\n",
       "      <td>0.00</td>\n",
       "      <td>0.000</td>\n",
       "      <td>0.000</td>\n",
       "      <td>0.00</td>\n",
       "      <td>...</td>\n",
       "      <td>0.0</td>\n",
       "      <td>0.00</td>\n",
       "      <td>0.00</td>\n",
       "      <td>0.00</td>\n",
       "      <td>0.00</td>\n",
       "      <td>0.00</td>\n",
       "      <td>0.00</td>\n",
       "      <td>0.00</td>\n",
       "      <td>0.0</td>\n",
       "      <td>0.0</td>\n",
       "    </tr>\n",
       "    <tr>\n",
       "      <th>2012-05-22 00:00:00</th>\n",
       "      <td>4.54</td>\n",
       "      <td>4.23</td>\n",
       "      <td>9.56</td>\n",
       "      <td>21.285</td>\n",
       "      <td>2.99</td>\n",
       "      <td>13.30</td>\n",
       "      <td>4.34</td>\n",
       "      <td>11.585</td>\n",
       "      <td>4.611</td>\n",
       "      <td>26.26</td>\n",
       "      <td>...</td>\n",
       "      <td>0.0</td>\n",
       "      <td>2.44</td>\n",
       "      <td>22.21</td>\n",
       "      <td>13.19</td>\n",
       "      <td>13.69</td>\n",
       "      <td>3.23</td>\n",
       "      <td>3.93</td>\n",
       "      <td>5.93</td>\n",
       "      <td>0.0</td>\n",
       "      <td>0.0</td>\n",
       "    </tr>\n",
       "    <tr>\n",
       "      <th>2012-05-23 00:00:00</th>\n",
       "      <td>4.50</td>\n",
       "      <td>4.18</td>\n",
       "      <td>9.56</td>\n",
       "      <td>21.105</td>\n",
       "      <td>2.99</td>\n",
       "      <td>13.60</td>\n",
       "      <td>4.29</td>\n",
       "      <td>11.516</td>\n",
       "      <td>4.549</td>\n",
       "      <td>25.93</td>\n",
       "      <td>...</td>\n",
       "      <td>0.0</td>\n",
       "      <td>2.42</td>\n",
       "      <td>24.43</td>\n",
       "      <td>13.31</td>\n",
       "      <td>13.96</td>\n",
       "      <td>3.24</td>\n",
       "      <td>3.86</td>\n",
       "      <td>5.87</td>\n",
       "      <td>0.0</td>\n",
       "      <td>0.0</td>\n",
       "    </tr>\n",
       "    <tr>\n",
       "      <th>2012-05-24 00:00:00</th>\n",
       "      <td>4.49</td>\n",
       "      <td>4.19</td>\n",
       "      <td>9.51</td>\n",
       "      <td>21.020</td>\n",
       "      <td>3.00</td>\n",
       "      <td>13.44</td>\n",
       "      <td>4.25</td>\n",
       "      <td>11.408</td>\n",
       "      <td>4.444</td>\n",
       "      <td>25.98</td>\n",
       "      <td>...</td>\n",
       "      <td>0.0</td>\n",
       "      <td>2.42</td>\n",
       "      <td>24.92</td>\n",
       "      <td>13.11</td>\n",
       "      <td>13.91</td>\n",
       "      <td>3.21</td>\n",
       "      <td>3.79</td>\n",
       "      <td>5.85</td>\n",
       "      <td>0.0</td>\n",
       "      <td>0.0</td>\n",
       "    </tr>\n",
       "  </tbody>\n",
       "</table>\n",
       "<p>4 rows × 73 columns</p>\n",
       "</div>"
      ],
      "text/plain": [
       "                     601939 CH Equity  601398 CH Equity  601857 CH Equity  \\\n",
       "2012-05-21 00:00:00              0.00              0.00              0.00   \n",
       "2012-05-22 00:00:00              4.54              4.23              9.56   \n",
       "2012-05-23 00:00:00              4.50              4.18              9.56   \n",
       "2012-05-24 00:00:00              4.49              4.19              9.51   \n",
       "\n",
       "                     601318 CH Equity  601988 CH Equity  600030 CH Equity  \\\n",
       "2012-05-21 00:00:00             0.000              0.00              0.00   \n",
       "2012-05-22 00:00:00            21.285              2.99             13.30   \n",
       "2012-05-23 00:00:00            21.105              2.99             13.60   \n",
       "2012-05-24 00:00:00            21.020              3.00             13.44   \n",
       "\n",
       "                     601998 CH Equity  600036 CH Equity  600016 CH Equity  \\\n",
       "2012-05-21 00:00:00              0.00             0.000             0.000   \n",
       "2012-05-22 00:00:00              4.34            11.585             4.611   \n",
       "2012-05-23 00:00:00              4.29            11.516             4.549   \n",
       "2012-05-24 00:00:00              4.25            11.408             4.444   \n",
       "\n",
       "                     601088 CH Equity        ...         600958 CH Equity  \\\n",
       "2012-05-21 00:00:00              0.00        ...                      0.0   \n",
       "2012-05-22 00:00:00             26.26        ...                      0.0   \n",
       "2012-05-23 00:00:00             25.93        ...                      0.0   \n",
       "2012-05-24 00:00:00             25.98        ...                      0.0   \n",
       "\n",
       "                     600808 CH Equity  600332 CH Equity  600999 CH Equity  \\\n",
       "2012-05-21 00:00:00              0.00              0.00              0.00   \n",
       "2012-05-22 00:00:00              2.44             22.21             13.19   \n",
       "2012-05-23 00:00:00              2.42             24.43             13.31   \n",
       "2012-05-24 00:00:00              2.42             24.92             13.11   \n",
       "\n",
       "                     601788 CH Equity  600027 CH Equity  601107 CH Equity  \\\n",
       "2012-05-21 00:00:00              0.00              0.00              0.00   \n",
       "2012-05-22 00:00:00             13.69              3.23              3.93   \n",
       "2012-05-23 00:00:00             13.96              3.24              3.86   \n",
       "2012-05-24 00:00:00             13.91              3.21              3.79   \n",
       "\n",
       "                     600026 CH Equity  601319 CH Equity  601228 CH Equity  \n",
       "2012-05-21 00:00:00              0.00               0.0               0.0  \n",
       "2012-05-22 00:00:00              5.93               0.0               0.0  \n",
       "2012-05-23 00:00:00              5.87               0.0               0.0  \n",
       "2012-05-24 00:00:00              5.85               0.0               0.0  \n",
       "\n",
       "[4 rows x 73 columns]"
      ]
     },
     "execution_count": 7,
     "metadata": {},
     "output_type": "execute_result"
    }
   ],
   "source": [
    "acols = a_tickers.columns.tolist()\n",
    "hcols = h_tickers.columns.tolist()\n",
    "acolsbase = acols[0:73]\n",
    "hcolsbase = hcols[0:73]\n",
    "a_tickers[acolsbase].head(4)"
   ]
  },
  {
   "cell_type": "markdown",
   "metadata": {},
   "source": [
    "### Create a list for A and H shares to represent snapshots of the index's constituents"
   ]
  },
  {
   "cell_type": "code",
   "execution_count": 8,
   "metadata": {},
   "outputs": [
    {
     "data": {
      "text/plain": [
       "16"
      ]
     },
     "execution_count": 8,
     "metadata": {},
     "output_type": "execute_result"
    }
   ],
   "source": [
    "a_snap_cols = a_snaps.columns.tolist()\n",
    "h_snap_cols = h_snaps.columns.tolist()\n",
    "len(a_snap_cols)"
   ]
  },
  {
   "cell_type": "code",
   "execution_count": 9,
   "metadata": {},
   "outputs": [],
   "source": [
    "alist1 = list(a_snaps[a_snap_cols[0]])\n",
    "alist2 = a_snaps[a_snap_cols[1]]\n",
    "alist3 = a_snaps[a_snap_cols[2]]\n",
    "alist4 = a_snaps[a_snap_cols[3]]\n",
    "alist5 = a_snaps[a_snap_cols[4]]\n",
    "alist6 = a_snaps[a_snap_cols[5]]\n",
    "alist7 = a_snaps[a_snap_cols[6]]\n",
    "alist8 = a_snaps[a_snap_cols[7]]\n",
    "alist9 = a_snaps[a_snap_cols[8]]\n",
    "alist10 = a_snaps[a_snap_cols[9]]\n",
    "alist11 = a_snaps[a_snap_cols[10]]\n",
    "alist12 = a_snaps[a_snap_cols[11]]\n",
    "alist13 = a_snaps[a_snap_cols[12]]\n",
    "alist14 = a_snaps[a_snap_cols[13]]\n",
    "alist15 = a_snaps[a_snap_cols[14]]\n",
    "alist16 = a_snaps[a_snap_cols[15]]"
   ]
  },
  {
   "cell_type": "code",
   "execution_count": 10,
   "metadata": {},
   "outputs": [],
   "source": [
    "hlist1 = list(h_snaps[h_snap_cols[0]])\n",
    "hlist2 = list(h_snaps[h_snap_cols[1]])\n",
    "hlist3 = list(h_snaps[h_snap_cols[2]])\n",
    "hlist4 = list(h_snaps[h_snap_cols[3]])\n",
    "hlist5 = list(h_snaps[h_snap_cols[4]])\n",
    "hlist6 = list(h_snaps[h_snap_cols[5]])\n",
    "hlist7 = list(h_snaps[h_snap_cols[6]])\n",
    "hlist8 = list(h_snaps[h_snap_cols[7]])\n",
    "hlist9 = list(h_snaps[h_snap_cols[8]])\n",
    "hlist10 = list(h_snaps[h_snap_cols[9]])\n",
    "hlist11 = list(h_snaps[h_snap_cols[10]])\n",
    "hlist12 = list(h_snaps[h_snap_cols[11]])\n",
    "hlist13 = list(h_snaps[h_snap_cols[12]])\n",
    "hlist14 = list(h_snaps[h_snap_cols[13]])\n",
    "hlist15 = list(h_snaps[h_snap_cols[14]])\n",
    "hlist16 = list(h_snaps[h_snap_cols[15]])"
   ]
  },
  {
   "cell_type": "code",
   "execution_count": 11,
   "metadata": {},
   "outputs": [],
   "source": [
    "period_start = pd.datetime(2012,6,1)\n",
    "date_end = pd.datetime(2019,4,30)\n",
    "count = 0\n",
    "while count < 15:\n",
    "    a1 = a_tickers.loc[(a_tickers.index >= period_start)&(a_tickers.index < a_snap_cols[1])]\n",
    "    a2 = a_tickers.loc[(a_tickers.index >= a_snap_cols[1])&(a_tickers.index < a_snap_cols[2])]\n",
    "    a3 = a_tickers.loc[(a_tickers.index >= a_snap_cols[2])&(a_tickers.index < a_snap_cols[3])]\n",
    "    a4 = a_tickers.loc[(a_tickers.index >= a_snap_cols[3])&(a_tickers.index < a_snap_cols[4])]\n",
    "    a5 = a_tickers.loc[(a_tickers.index >= a_snap_cols[4])&(a_tickers.index < a_snap_cols[5])]\n",
    "    a6 = a_tickers.loc[(a_tickers.index >= a_snap_cols[5])&(a_tickers.index < a_snap_cols[6])]\n",
    "    a7 = a_tickers.loc[(a_tickers.index >= a_snap_cols[6])&(a_tickers.index < a_snap_cols[7])]\n",
    "    a8 = a_tickers.loc[(a_tickers.index >= a_snap_cols[7])&(a_tickers.index < a_snap_cols[8])]\n",
    "    a9 = a_tickers.loc[(a_tickers.index >= a_snap_cols[8])&(a_tickers.index < a_snap_cols[9])]\n",
    "    a10 = a_tickers.loc[(a_tickers.index >= a_snap_cols[9])&(a_tickers.index < a_snap_cols[10])]\n",
    "    a11 = a_tickers.loc[(a_tickers.index >= a_snap_cols[10])&(a_tickers.index < a_snap_cols[11])]\n",
    "    a12 = a_tickers.loc[(a_tickers.index >= a_snap_cols[11])&(a_tickers.index < a_snap_cols[12])]\n",
    "    a13 = a_tickers.loc[(a_tickers.index >= a_snap_cols[12])&(a_tickers.index < a_snap_cols[13])]\n",
    "    a14 = a_tickers.loc[(a_tickers.index >= a_snap_cols[13])&(a_tickers.index < a_snap_cols[14])]\n",
    "    a15 = a_tickers.loc[(a_tickers.index >= a_snap_cols[14])&(a_tickers.index < date_end)]\n",
    "    count = count + 1"
   ]
  },
  {
   "cell_type": "code",
   "execution_count": 12,
   "metadata": {},
   "outputs": [],
   "source": [
    "h1 = h_tickers.loc[(h_tickers.index >= period_start)&(h_tickers.index < h_snap_cols[1])]\n",
    "h2 = h_tickers.loc[(h_tickers.index >= h_snap_cols[1])&(h_tickers.index < h_snap_cols[2])]\n",
    "h3 = h_tickers.loc[(h_tickers.index >= h_snap_cols[2])&(h_tickers.index < h_snap_cols[3])]\n",
    "h4 = h_tickers.loc[(h_tickers.index >= h_snap_cols[3])&(h_tickers.index < h_snap_cols[4])]\n",
    "h5 = h_tickers.loc[(h_tickers.index >= h_snap_cols[4])&(h_tickers.index < h_snap_cols[5])]\n",
    "h6 = h_tickers.loc[(h_tickers.index >= h_snap_cols[5])&(h_tickers.index < h_snap_cols[6])]\n",
    "h7 = h_tickers.loc[(h_tickers.index >= h_snap_cols[6])&(h_tickers.index < h_snap_cols[7])]\n",
    "h8 = h_tickers.loc[(h_tickers.index >= h_snap_cols[7])&(h_tickers.index < h_snap_cols[8])]\n",
    "h9 = h_tickers.loc[(h_tickers.index >= h_snap_cols[8])&(h_tickers.index < h_snap_cols[9])]\n",
    "h10 = h_tickers.loc[(h_tickers.index >= h_snap_cols[9])&(h_tickers.index < h_snap_cols[10])]\n",
    "h11 = h_tickers.loc[(h_tickers.index >= h_snap_cols[10])&(h_tickers.index < h_snap_cols[11])]\n",
    "h12 = h_tickers.loc[(h_tickers.index >= h_snap_cols[11])&(h_tickers.index < h_snap_cols[12])]\n",
    "h13 = h_tickers.loc[(h_tickers.index >= h_snap_cols[12])&(h_tickers.index < h_snap_cols[13])]\n",
    "h14 = h_tickers.loc[(h_tickers.index >= h_snap_cols[13])&(h_tickers.index < h_snap_cols[14])]\n",
    "h15 = h_tickers.loc[(h_tickers.index >= h_snap_cols[14])&(h_tickers.index < date_end)]"
   ]
  },
  {
   "cell_type": "code",
   "execution_count": 13,
   "metadata": {},
   "outputs": [],
   "source": [
    "ah_index = pd.DataFrame()\n",
    "a_list = [a1, a2, a3, a4, a5, a6, a7, a8, a9, a10, a11, a12, a13, a14, a15]\n",
    "h_list = [h1, h2, h3, h4, h5, h6, h7, h8, h9, h10, h11, h12, h13, h14, h15]\n",
    "a_lister = [alist1, alist2, alist3, alist4, alist5, alist6, alist7, alist8, alist9, alist10, alist11, alist12, alist13, alist14, alist15]\n",
    "h_lister = [hlist1, hlist2, hlist3, hlist4, hlist5, hlist6, hlist7, hlist8, hlist9, hlist10, hlist11, hlist12, hlist13, hlist14, hlist15]"
   ]
  },
  {
   "cell_type": "code",
   "execution_count": 14,
   "metadata": {},
   "outputs": [],
   "source": [
    "#generate OS column list for replacement\n",
    "a_os_list = []\n",
    "for indv_list in a_lister:\n",
    "    indv_list = [i + \".1\" for i in indv_list]\n",
    "    a_os_list.append(indv_list)\n",
    "\n",
    "h_os_list = []\n",
    "for indv_list in h_lister:\n",
    "    indv_list = [i + \".1\" for i in indv_list]\n",
    "    h_os_list.append(indv_list)\n",
    "    \n",
    "#generate FF column list for replacement\n",
    "a_ff_list = []\n",
    "for indv_list in a_lister:\n",
    "    indv_list = [i + \".2\" for i in indv_list]\n",
    "    a_ff_list.append(indv_list)\n",
    "\n",
    "h_ff_list = []\n",
    "for indv_list in h_lister:\n",
    "    indv_list = [i + \".2\" for i in indv_list]\n",
    "    h_ff_list.append(indv_list)"
   ]
  },
  {
   "cell_type": "code",
   "execution_count": 15,
   "metadata": {},
   "outputs": [
    {
     "name": "stdout",
     "output_type": "stream",
     "text": [
      "50 50\n"
     ]
    }
   ],
   "source": [
    "print(len(a_os_list[1]),len(a_os_list[6]))\n",
    "# i.e. max holdings"
   ]
  },
  {
   "cell_type": "code",
   "execution_count": 16,
   "metadata": {},
   "outputs": [
    {
     "name": "stdout",
     "output_type": "stream",
     "text": [
      "(70, 219) (94, 219) (51, 219) (238, 219)\n"
     ]
    }
   ],
   "source": [
    "print(a1.shape, a4.shape, a8.shape, a11.shape)"
   ]
  },
  {
   "cell_type": "code",
   "execution_count": 17,
   "metadata": {},
   "outputs": [
    {
     "name": "stdout",
     "output_type": "stream",
     "text": [
      "(70, 219) (94, 219) (51, 219) (238, 219)\n"
     ]
    }
   ],
   "source": [
    "print(h1.shape, h4.shape, h8.shape, h11.shape)"
   ]
  },
  {
   "cell_type": "code",
   "execution_count": 18,
   "metadata": {},
   "outputs": [
    {
     "data": {
      "text/html": [
       "<div>\n",
       "<style scoped>\n",
       "    .dataframe tbody tr th:only-of-type {\n",
       "        vertical-align: middle;\n",
       "    }\n",
       "\n",
       "    .dataframe tbody tr th {\n",
       "        vertical-align: top;\n",
       "    }\n",
       "\n",
       "    .dataframe thead th {\n",
       "        text-align: right;\n",
       "    }\n",
       "</style>\n",
       "<table border=\"1\" class=\"dataframe\">\n",
       "  <thead>\n",
       "    <tr style=\"text-align: right;\">\n",
       "      <th></th>\n",
       "      <th>Dates</th>\n",
       "      <th>USDCNY Curncy</th>\n",
       "      <th>USDHKD Curncy</th>\n",
       "    </tr>\n",
       "  </thead>\n",
       "  <tbody>\n",
       "    <tr>\n",
       "      <th>0</th>\n",
       "      <td>2012-05-01</td>\n",
       "      <td>6.2774</td>\n",
       "      <td>7.7582</td>\n",
       "    </tr>\n",
       "    <tr>\n",
       "      <th>1</th>\n",
       "      <td>2012-05-02</td>\n",
       "      <td>6.3075</td>\n",
       "      <td>7.7587</td>\n",
       "    </tr>\n",
       "    <tr>\n",
       "      <th>2</th>\n",
       "      <td>2012-05-03</td>\n",
       "      <td>6.3053</td>\n",
       "      <td>7.7593</td>\n",
       "    </tr>\n",
       "    <tr>\n",
       "      <th>3</th>\n",
       "      <td>2012-05-04</td>\n",
       "      <td>6.3061</td>\n",
       "      <td>7.7608</td>\n",
       "    </tr>\n",
       "  </tbody>\n",
       "</table>\n",
       "</div>"
      ],
      "text/plain": [
       "       Dates  USDCNY Curncy  USDHKD Curncy\n",
       "0 2012-05-01         6.2774         7.7582\n",
       "1 2012-05-02         6.3075         7.7587\n",
       "2 2012-05-03         6.3053         7.7593\n",
       "3 2012-05-04         6.3061         7.7608"
      ]
     },
     "execution_count": 18,
     "metadata": {},
     "output_type": "execute_result"
    }
   ],
   "source": [
    "fx_quotes.head(4)"
   ]
  },
  {
   "cell_type": "markdown",
   "metadata": {},
   "source": [
    "### Function to generate the AH Premium using cleaned and prepared files as inputs"
   ]
  },
  {
   "cell_type": "code",
   "execution_count": 19,
   "metadata": {},
   "outputs": [
    {
     "name": "stdout",
     "output_type": "stream",
     "text": [
      "2575 2505 70 70\n",
      "2575 2463 112 112\n",
      "2575 2542 33 33\n",
      "2575 2481 94 94\n",
      "2575 2458 117 117\n",
      "2575 2449 126 126\n",
      "2575 2458 117 117\n",
      "2575 2524 51 51\n",
      "2575 2496 79 79\n",
      "2575 2456 119 119\n",
      "2575 2337 238 238\n",
      "2575 2450 125 125\n",
      "2575 2456 119 119\n",
      "2575 2445 130 130\n",
      "2575 2423 152 152\n"
     ]
    }
   ],
   "source": [
    "count = 0\n",
    "final_indiv = pd.DataFrame()\n",
    "ah_rep_index = pd.DataFrame()\n",
    "for adf, hdf in zip(a_list, h_list):\n",
    "# have to reset matricies for FX conversion\n",
    "    fx_quotes = pd.read_excel(spotfxpath)\n",
    "    fx_quotes = fx_quotes.set_index('Dates')\n",
    "    a_prem = pd.DataFrame()\n",
    "    h_prem = pd.DataFrame()\n",
    "    \n",
    "    adfcols = adf.columns.tolist()\n",
    "    hdfcols = hdf.columns.tolist()\n",
    "    adfcolsbase = adfcols[0:73]\n",
    "    hdfcolsbase = adfcolsbase\n",
    "\n",
    "#split across all tickers\n",
    "    adf_colspx = adfcols[0:73]\n",
    "    hdf_colspx = hdfcols[0:73] \n",
    "    adf_colsos = adfcols[73:146]\n",
    "    hdf_colsos = hdfcols[73:146]\n",
    "    adf_colsff = adfcols[146:219]\n",
    "    hdf_colsff = hdfcols[146:219]\n",
    "    a_px = adf[adf_colspx]\n",
    "    a_os = adf[adf_colsos]\n",
    "    a_ff = adf[adf_colsff]\n",
    "    h_px = hdf[hdf_colspx]\n",
    "    h_os = hdf[hdf_colsos]\n",
    "    h_ff = hdf[hdf_colsff]\n",
    "\n",
    "\n",
    "#split w/ new name for time-senstitive tickers\n",
    "    a_px = a_px[a_lister[count]]\n",
    "    a_os = a_os[a_os_list[count]]\n",
    "    a_ff = a_ff[a_ff_list[count]]\n",
    "    h_px = h_px[h_lister[count]]\n",
    "    h_os = h_os[h_os_list[count]]\n",
    "    h_ff = h_ff[h_ff_list[count]]\n",
    "    \n",
    "#Correct for Bloomberg Units\n",
    "    a_os = a_os.multiply(1000)\n",
    "    h_os = h_os.multiply(1000)\n",
    "    a_ff = a_ff.div(100)\n",
    "    h_ff = h_ff.div(100)\n",
    "    \n",
    "#Check for missing rows    \n",
    "    dataset_ah = (a_px, a_os, a_ff, h_px, h_os, h_ff)\n",
    "    for df in dataset_ah:\n",
    "        null_df = df[df.isnull().any(axis=1)]\n",
    "        if len(null_df) != 0:\n",
    "            print(\"Missing values in a dataframe\")\n",
    "            \n",
    "    a_flos_adj = (a_os.values * a_ff.values)\n",
    "    h_flos_adj = (h_os.values * h_ff.values)\n",
    "    adj_flos = a_flos_adj + h_flos_adj\n",
    "        \n",
    "    numerator = adj_flos * a_px.values\n",
    "    denominator = adj_flos * h_px.values\n",
    "    numerator = pd.DataFrame(data = numerator, index=a_os.index, columns=a_px.columns)\n",
    "    denominator = pd.DataFrame(data = denominator, index=h_os.index, columns=h_px.columns)\n",
    "\n",
    "#slicing only the dates we need for the fx spot matrix\n",
    "    fx_dates = fx_quotes.index.tolist()\n",
    "    dates = numerator.index.tolist()\n",
    "    excessfx = []\n",
    "    excessfx = np.setdiff1d(fx_dates, dates)\n",
    "    print(len(fx_quotes),len(excessfx),len(fx_quotes)-len(excessfx),len(numerator))\n",
    "    fx_quotes = fx_quotes.drop(excessfx,0)\n",
    "    usdcny = fx_quotes.drop('USDHKD Curncy', axis = 1)\n",
    "    usdhkd = fx_quotes.drop('USDCNY Curncy', axis = 1)\n",
    "    \n",
    "    for cols in numerator.columns:\n",
    "        usdcny[cols] = usdcny['USDCNY Curncy']\n",
    "    for cols in denominator.columns:\n",
    "        usdhkd[cols] = usdhkd['USDHKD Curncy']\n",
    "#Remove reference column which we duplicated from\n",
    "    usdcny = usdcny.drop('USDCNY Curncy', axis = 1)\n",
    "    usdhkd = usdhkd.drop('USDHKD Curncy', axis = 1)\n",
    "    \n",
    "    a_prem_cny = numerator.values / usdcny.values\n",
    "    h_prem_hkd = denominator.values / usdhkd.values\n",
    "    ah_prem = a_prem_cny / h_prem_hkd\n",
    "    ah_prem = pd.DataFrame(data=ah_prem, index=usdcny.index, columns=range(1,51))\n",
    "    \n",
    "    a_v = pd.DataFrame(data=a_prem_cny, index=usdcny.index, columns=range(1,51))\n",
    "    h_v = pd.DataFrame(data=h_prem_hkd, index=usdcny.index, columns=range(1,51))\n",
    "    a_v['Sum'] = a_v.sum(axis = 1)\n",
    "    h_v['Sum'] = h_v.sum(axis = 1)\n",
    "    a_v = a_v['Sum']\n",
    "    h_v = h_v['Sum'] \n",
    "    \n",
    "    ah_index = a_v/h_v\n",
    "    \n",
    "    ah_rep_index = ah_rep_index.append(ah_index, ignore_index=False)\n",
    "    \n",
    "    final_indiv = final_indiv.append(ah_prem)"
   ]
  },
  {
   "cell_type": "code",
   "execution_count": 20,
   "metadata": {},
   "outputs": [
    {
     "data": {
      "text/plain": [
       "pandas.core.series.Series"
      ]
     },
     "execution_count": 20,
     "metadata": {},
     "output_type": "execute_result"
    }
   ],
   "source": [
    "type(ah_index)"
   ]
  },
  {
   "cell_type": "code",
   "execution_count": 21,
   "metadata": {
    "scrolled": true
   },
   "outputs": [
    {
     "data": {
      "text/plain": [
       "Dates\n",
       "2019-04-29    90.015802\n",
       "dtype: float64"
      ]
     },
     "execution_count": 21,
     "metadata": {},
     "output_type": "execute_result"
    }
   ],
   "source": [
    "ah_prem[151:152].sum(axis = 1)"
   ]
  },
  {
   "cell_type": "code",
   "execution_count": 22,
   "metadata": {},
   "outputs": [
    {
     "data": {
      "text/html": [
       "<div>\n",
       "<style scoped>\n",
       "    .dataframe tbody tr th:only-of-type {\n",
       "        vertical-align: middle;\n",
       "    }\n",
       "\n",
       "    .dataframe tbody tr th {\n",
       "        vertical-align: top;\n",
       "    }\n",
       "\n",
       "    .dataframe thead th {\n",
       "        text-align: right;\n",
       "    }\n",
       "</style>\n",
       "<table border=\"1\" class=\"dataframe\">\n",
       "  <thead>\n",
       "    <tr style=\"text-align: right;\">\n",
       "      <th></th>\n",
       "      <th>1</th>\n",
       "      <th>2</th>\n",
       "      <th>3</th>\n",
       "      <th>4</th>\n",
       "      <th>5</th>\n",
       "      <th>6</th>\n",
       "      <th>7</th>\n",
       "      <th>8</th>\n",
       "      <th>9</th>\n",
       "      <th>10</th>\n",
       "      <th>...</th>\n",
       "      <th>41</th>\n",
       "      <th>42</th>\n",
       "      <th>43</th>\n",
       "      <th>44</th>\n",
       "      <th>45</th>\n",
       "      <th>46</th>\n",
       "      <th>47</th>\n",
       "      <th>48</th>\n",
       "      <th>49</th>\n",
       "      <th>50</th>\n",
       "    </tr>\n",
       "    <tr>\n",
       "      <th>Dates</th>\n",
       "      <th></th>\n",
       "      <th></th>\n",
       "      <th></th>\n",
       "      <th></th>\n",
       "      <th></th>\n",
       "      <th></th>\n",
       "      <th></th>\n",
       "      <th></th>\n",
       "      <th></th>\n",
       "      <th></th>\n",
       "      <th></th>\n",
       "      <th></th>\n",
       "      <th></th>\n",
       "      <th></th>\n",
       "      <th></th>\n",
       "      <th></th>\n",
       "      <th></th>\n",
       "      <th></th>\n",
       "      <th></th>\n",
       "      <th></th>\n",
       "      <th></th>\n",
       "    </tr>\n",
       "  </thead>\n",
       "  <tbody>\n",
       "    <tr>\n",
       "      <th>2012-06-01</th>\n",
       "      <td>100.931005</td>\n",
       "      <td>109.912109</td>\n",
       "      <td>117.850065</td>\n",
       "      <td>90.935340</td>\n",
       "      <td>123.880773</td>\n",
       "      <td>97.756144</td>\n",
       "      <td>19.542669</td>\n",
       "      <td>628.231013</td>\n",
       "      <td>119.391656</td>\n",
       "      <td>118.996685</td>\n",
       "      <td>...</td>\n",
       "      <td>156.027817</td>\n",
       "      <td>0.0</td>\n",
       "      <td>0.0</td>\n",
       "      <td>0.0</td>\n",
       "      <td>32.670816</td>\n",
       "      <td>165.392596</td>\n",
       "      <td>174.434260</td>\n",
       "      <td>160.692512</td>\n",
       "      <td>235.695680</td>\n",
       "      <td>173.662525</td>\n",
       "    </tr>\n",
       "    <tr>\n",
       "      <th>2012-06-04</th>\n",
       "      <td>101.747683</td>\n",
       "      <td>109.329231</td>\n",
       "      <td>116.766136</td>\n",
       "      <td>93.170522</td>\n",
       "      <td>124.401929</td>\n",
       "      <td>97.015800</td>\n",
       "      <td>19.830708</td>\n",
       "      <td>635.010162</td>\n",
       "      <td>121.127810</td>\n",
       "      <td>116.857554</td>\n",
       "      <td>...</td>\n",
       "      <td>156.604835</td>\n",
       "      <td>0.0</td>\n",
       "      <td>0.0</td>\n",
       "      <td>0.0</td>\n",
       "      <td>32.548249</td>\n",
       "      <td>169.685114</td>\n",
       "      <td>178.953294</td>\n",
       "      <td>166.568397</td>\n",
       "      <td>240.907688</td>\n",
       "      <td>166.781828</td>\n",
       "    </tr>\n",
       "    <tr>\n",
       "      <th>2012-06-05</th>\n",
       "      <td>101.200585</td>\n",
       "      <td>109.118629</td>\n",
       "      <td>117.808542</td>\n",
       "      <td>91.855502</td>\n",
       "      <td>123.075805</td>\n",
       "      <td>98.565972</td>\n",
       "      <td>20.424460</td>\n",
       "      <td>629.843392</td>\n",
       "      <td>119.922949</td>\n",
       "      <td>116.468300</td>\n",
       "      <td>...</td>\n",
       "      <td>157.657861</td>\n",
       "      <td>0.0</td>\n",
       "      <td>0.0</td>\n",
       "      <td>0.0</td>\n",
       "      <td>33.955292</td>\n",
       "      <td>167.623149</td>\n",
       "      <td>182.933610</td>\n",
       "      <td>167.453490</td>\n",
       "      <td>241.597424</td>\n",
       "      <td>168.854607</td>\n",
       "    </tr>\n",
       "    <tr>\n",
       "      <th>2012-06-06</th>\n",
       "      <td>100.249018</td>\n",
       "      <td>114.542906</td>\n",
       "      <td>115.003691</td>\n",
       "      <td>89.492596</td>\n",
       "      <td>130.090905</td>\n",
       "      <td>98.574685</td>\n",
       "      <td>21.172448</td>\n",
       "      <td>602.910470</td>\n",
       "      <td>118.415359</td>\n",
       "      <td>113.359102</td>\n",
       "      <td>...</td>\n",
       "      <td>152.990076</td>\n",
       "      <td>0.0</td>\n",
       "      <td>0.0</td>\n",
       "      <td>0.0</td>\n",
       "      <td>32.639450</td>\n",
       "      <td>165.459620</td>\n",
       "      <td>181.263934</td>\n",
       "      <td>161.853101</td>\n",
       "      <td>231.155810</td>\n",
       "      <td>162.395139</td>\n",
       "    </tr>\n",
       "  </tbody>\n",
       "</table>\n",
       "<p>4 rows × 50 columns</p>\n",
       "</div>"
      ],
      "text/plain": [
       "                    1           2           3          4           5   \\\n",
       "Dates                                                                   \n",
       "2012-06-01  100.931005  109.912109  117.850065  90.935340  123.880773   \n",
       "2012-06-04  101.747683  109.329231  116.766136  93.170522  124.401929   \n",
       "2012-06-05  101.200585  109.118629  117.808542  91.855502  123.075805   \n",
       "2012-06-06  100.249018  114.542906  115.003691  89.492596  130.090905   \n",
       "\n",
       "                   6          7           8           9           10  \\\n",
       "Dates                                                                  \n",
       "2012-06-01  97.756144  19.542669  628.231013  119.391656  118.996685   \n",
       "2012-06-04  97.015800  19.830708  635.010162  121.127810  116.857554   \n",
       "2012-06-05  98.565972  20.424460  629.843392  119.922949  116.468300   \n",
       "2012-06-06  98.574685  21.172448  602.910470  118.415359  113.359102   \n",
       "\n",
       "               ...              41   42   43   44         45          46  \\\n",
       "Dates          ...                                                         \n",
       "2012-06-01     ...      156.027817  0.0  0.0  0.0  32.670816  165.392596   \n",
       "2012-06-04     ...      156.604835  0.0  0.0  0.0  32.548249  169.685114   \n",
       "2012-06-05     ...      157.657861  0.0  0.0  0.0  33.955292  167.623149   \n",
       "2012-06-06     ...      152.990076  0.0  0.0  0.0  32.639450  165.459620   \n",
       "\n",
       "                    47          48          49          50  \n",
       "Dates                                                       \n",
       "2012-06-01  174.434260  160.692512  235.695680  173.662525  \n",
       "2012-06-04  178.953294  166.568397  240.907688  166.781828  \n",
       "2012-06-05  182.933610  167.453490  241.597424  168.854607  \n",
       "2012-06-06  181.263934  161.853101  231.155810  162.395139  \n",
       "\n",
       "[4 rows x 50 columns]"
      ]
     },
     "execution_count": 22,
     "metadata": {},
     "output_type": "execute_result"
    }
   ],
   "source": [
    "final_indiv = final_indiv*100\n",
    "final_indiv.head(4)"
   ]
  },
  {
   "cell_type": "code",
   "execution_count": 23,
   "metadata": {},
   "outputs": [
    {
     "data": {
      "text/html": [
       "<div>\n",
       "<style scoped>\n",
       "    .dataframe tbody tr th:only-of-type {\n",
       "        vertical-align: middle;\n",
       "    }\n",
       "\n",
       "    .dataframe tbody tr th {\n",
       "        vertical-align: top;\n",
       "    }\n",
       "\n",
       "    .dataframe thead th {\n",
       "        text-align: right;\n",
       "    }\n",
       "</style>\n",
       "<table border=\"1\" class=\"dataframe\">\n",
       "  <thead>\n",
       "    <tr style=\"text-align: right;\">\n",
       "      <th></th>\n",
       "      <th>2012-06-01 00:00:00</th>\n",
       "      <th>2012-06-04 00:00:00</th>\n",
       "      <th>2012-06-05 00:00:00</th>\n",
       "      <th>2012-06-06 00:00:00</th>\n",
       "      <th>2012-06-07 00:00:00</th>\n",
       "      <th>2012-06-08 00:00:00</th>\n",
       "      <th>2012-06-11 00:00:00</th>\n",
       "      <th>2012-06-12 00:00:00</th>\n",
       "      <th>2012-06-13 00:00:00</th>\n",
       "      <th>2012-06-14 00:00:00</th>\n",
       "      <th>...</th>\n",
       "      <th>2019-04-16 00:00:00</th>\n",
       "      <th>2019-04-17 00:00:00</th>\n",
       "      <th>2019-04-18 00:00:00</th>\n",
       "      <th>2019-04-19 00:00:00</th>\n",
       "      <th>2019-04-22 00:00:00</th>\n",
       "      <th>2019-04-23 00:00:00</th>\n",
       "      <th>2019-04-24 00:00:00</th>\n",
       "      <th>2019-04-25 00:00:00</th>\n",
       "      <th>2019-04-26 00:00:00</th>\n",
       "      <th>2019-04-29 00:00:00</th>\n",
       "    </tr>\n",
       "  </thead>\n",
       "  <tbody>\n",
       "    <tr>\n",
       "      <th>Sum</th>\n",
       "      <td>0.989162</td>\n",
       "      <td>0.995131</td>\n",
       "      <td>0.999588</td>\n",
       "      <td>1.002028</td>\n",
       "      <td>0.994209</td>\n",
       "      <td>0.995558</td>\n",
       "      <td>0.978677</td>\n",
       "      <td>0.976244</td>\n",
       "      <td>0.971615</td>\n",
       "      <td>0.972125</td>\n",
       "      <td>...</td>\n",
       "      <td>NaN</td>\n",
       "      <td>NaN</td>\n",
       "      <td>NaN</td>\n",
       "      <td>NaN</td>\n",
       "      <td>NaN</td>\n",
       "      <td>NaN</td>\n",
       "      <td>NaN</td>\n",
       "      <td>NaN</td>\n",
       "      <td>NaN</td>\n",
       "      <td>NaN</td>\n",
       "    </tr>\n",
       "  </tbody>\n",
       "</table>\n",
       "<p>1 rows × 1682 columns</p>\n",
       "</div>"
      ],
      "text/plain": [
       "     2012-06-01  2012-06-04  2012-06-05  2012-06-06  2012-06-07  2012-06-08  \\\n",
       "Sum    0.989162    0.995131    0.999588    1.002028    0.994209    0.995558   \n",
       "\n",
       "     2012-06-11  2012-06-12  2012-06-13  2012-06-14     ...      2019-04-16  \\\n",
       "Sum    0.978677    0.976244    0.971615    0.972125     ...             NaN   \n",
       "\n",
       "     2019-04-17  2019-04-18  2019-04-19  2019-04-22  2019-04-23  2019-04-24  \\\n",
       "Sum         NaN         NaN         NaN         NaN         NaN         NaN   \n",
       "\n",
       "     2019-04-25  2019-04-26  2019-04-29  \n",
       "Sum         NaN         NaN         NaN  \n",
       "\n",
       "[1 rows x 1682 columns]"
      ]
     },
     "execution_count": 23,
     "metadata": {},
     "output_type": "execute_result"
    }
   ],
   "source": [
    "ah_rep_index[0:1]"
   ]
  },
  {
   "cell_type": "code",
   "execution_count": 24,
   "metadata": {},
   "outputs": [
    {
     "data": {
      "text/html": [
       "<div>\n",
       "<style scoped>\n",
       "    .dataframe tbody tr th:only-of-type {\n",
       "        vertical-align: middle;\n",
       "    }\n",
       "\n",
       "    .dataframe tbody tr th {\n",
       "        vertical-align: top;\n",
       "    }\n",
       "\n",
       "    .dataframe thead th {\n",
       "        text-align: right;\n",
       "    }\n",
       "</style>\n",
       "<table border=\"1\" class=\"dataframe\">\n",
       "  <thead>\n",
       "    <tr style=\"text-align: right;\">\n",
       "      <th></th>\n",
       "      <th>2012-06-01 00:00:00</th>\n",
       "      <th>2012-06-04 00:00:00</th>\n",
       "      <th>2012-06-05 00:00:00</th>\n",
       "      <th>2012-06-06 00:00:00</th>\n",
       "      <th>2012-06-07 00:00:00</th>\n",
       "      <th>2012-06-08 00:00:00</th>\n",
       "      <th>2012-06-11 00:00:00</th>\n",
       "      <th>2012-06-12 00:00:00</th>\n",
       "      <th>2012-06-13 00:00:00</th>\n",
       "      <th>2012-06-14 00:00:00</th>\n",
       "      <th>...</th>\n",
       "      <th>2019-04-16 00:00:00</th>\n",
       "      <th>2019-04-17 00:00:00</th>\n",
       "      <th>2019-04-18 00:00:00</th>\n",
       "      <th>2019-04-19 00:00:00</th>\n",
       "      <th>2019-04-22 00:00:00</th>\n",
       "      <th>2019-04-23 00:00:00</th>\n",
       "      <th>2019-04-24 00:00:00</th>\n",
       "      <th>2019-04-25 00:00:00</th>\n",
       "      <th>2019-04-26 00:00:00</th>\n",
       "      <th>2019-04-29 00:00:00</th>\n",
       "    </tr>\n",
       "  </thead>\n",
       "  <tbody>\n",
       "    <tr>\n",
       "      <th>Sum</th>\n",
       "      <td>NaN</td>\n",
       "      <td>NaN</td>\n",
       "      <td>NaN</td>\n",
       "      <td>NaN</td>\n",
       "      <td>NaN</td>\n",
       "      <td>NaN</td>\n",
       "      <td>NaN</td>\n",
       "      <td>NaN</td>\n",
       "      <td>NaN</td>\n",
       "      <td>NaN</td>\n",
       "      <td>...</td>\n",
       "      <td>1.173308</td>\n",
       "      <td>1.171218</td>\n",
       "      <td>1.166538</td>\n",
       "      <td>1.183026</td>\n",
       "      <td>1.153131</td>\n",
       "      <td>1.155379</td>\n",
       "      <td>1.161664</td>\n",
       "      <td>1.153954</td>\n",
       "      <td>1.151423</td>\n",
       "      <td>1.153479</td>\n",
       "    </tr>\n",
       "  </tbody>\n",
       "</table>\n",
       "<p>1 rows × 1682 columns</p>\n",
       "</div>"
      ],
      "text/plain": [
       "     2012-06-01  2012-06-04  2012-06-05  2012-06-06  2012-06-07  2012-06-08  \\\n",
       "Sum         NaN         NaN         NaN         NaN         NaN         NaN   \n",
       "\n",
       "     2012-06-11  2012-06-12  2012-06-13  2012-06-14     ...      2019-04-16  \\\n",
       "Sum         NaN         NaN         NaN         NaN     ...        1.173308   \n",
       "\n",
       "     2019-04-17  2019-04-18  2019-04-19  2019-04-22  2019-04-23  2019-04-24  \\\n",
       "Sum    1.171218    1.166538    1.183026    1.153131    1.155379    1.161664   \n",
       "\n",
       "     2019-04-25  2019-04-26  2019-04-29  \n",
       "Sum    1.153954    1.151423    1.153479  \n",
       "\n",
       "[1 rows x 1682 columns]"
      ]
     },
     "execution_count": 24,
     "metadata": {},
     "output_type": "execute_result"
    }
   ],
   "source": [
    "ah_rep_index[-1:]"
   ]
  },
  {
   "cell_type": "code",
   "execution_count": 25,
   "metadata": {},
   "outputs": [
    {
     "data": {
      "text/plain": [
       "2012-06-01    0.989162\n",
       "2012-06-04    0.995131\n",
       "2012-06-05    0.999588\n",
       "2012-06-06    1.002028\n",
       "dtype: float64"
      ]
     },
     "execution_count": 25,
     "metadata": {},
     "output_type": "execute_result"
    }
   ],
   "source": [
    "ah_rep_index.mean().head(4)"
   ]
  },
  {
   "cell_type": "code",
   "execution_count": 26,
   "metadata": {},
   "outputs": [
    {
     "data": {
      "text/plain": [
       "2019-04-24    1.161664\n",
       "2019-04-25    1.153954\n",
       "2019-04-26    1.151423\n",
       "2019-04-29    1.153479\n",
       "dtype: float64"
      ]
     },
     "execution_count": 26,
     "metadata": {},
     "output_type": "execute_result"
    }
   ],
   "source": [
    "ah_rep_index.mean().tail(4)"
   ]
  },
  {
   "cell_type": "code",
   "execution_count": 27,
   "metadata": {},
   "outputs": [
    {
     "data": {
      "text/plain": [
       "99.51311917640714"
      ]
     },
     "execution_count": 27,
     "metadata": {},
     "output_type": "execute_result"
    }
   ],
   "source": [
    "ah_index = 100* ah_rep_index.mean()\n",
    "ah_index[1]"
   ]
  },
  {
   "cell_type": "code",
   "execution_count": 28,
   "metadata": {},
   "outputs": [
    {
     "data": {
      "text/plain": [
       "pandas.core.series.Series"
      ]
     },
     "execution_count": 28,
     "metadata": {},
     "output_type": "execute_result"
    }
   ],
   "source": [
    "type(ah_index)"
   ]
  },
  {
   "cell_type": "code",
   "execution_count": 29,
   "metadata": {},
   "outputs": [
    {
     "data": {
      "text/plain": [
       "(75, 145)"
      ]
     },
     "execution_count": 29,
     "metadata": {},
     "output_type": "execute_result"
    },
    {
     "data": {
      "image/png": "[encoded data removed]",
      "text/plain": [
       "<Figure size 720x216 with 1 Axes>"
      ]
     },
     "metadata": {
      "needs_background": "light"
     },
     "output_type": "display_data"
    }
   ],
   "source": [
    "fig, ax1 = plt.subplots(figsize= (10,3))\n",
    "x1 = final_indiv.index.tolist()\n",
    "y1 = ah_index.tolist()\n",
    "#formating plot\n",
    "ax1.plot(x1, y1, color = 'black', linewidth = .75)\n",
    "ax1.set_title(\"Hang Seng AH Premium Index\", fontsize = 20, fontweight = 'bold')\n",
    "ax1.set_xlabel(\"Date\")\n",
    "ax1.set_ylabel(\"A Share Premium\")\n",
    "ax1.spines[\"top\"].set_visible(False) \n",
    "ax1.spines[\"right\"].set_visible(False) \n",
    "ax1.set_ylim(75,145)\n",
    "\n",
    "\n",
    "\n"
   ]
  },
  {
   "cell_type": "code",
   "execution_count": 30,
   "metadata": {},
   "outputs": [
    {
     "data": {
      "image/png": "[encoded data removed]",
      "text/plain": [
       "<Figure size 720x216 with 2 Axes>"
      ]
     },
     "metadata": {
      "needs_background": "light"
     },
     "output_type": "display_data"
    }
   ],
   "source": [
    "fig, (ax1, ax2) = plt.subplots(nrows = 1, ncols = 2, figsize= (10,3))\n",
    "gs = gridspec.GridSpec(1,2,width_ratios = [3,1])\n",
    "ax1 = plt.subplot(gs[0])\n",
    "ax2 = plt.subplot(gs[1])\n",
    "x1 = ah_index.index.tolist()\n",
    "y1 = ah_index.tolist()\n",
    "#formating plot\n",
    "ax1.plot(x1, y1, color = 'black', linewidth = .5)\n",
    "ax1.set_title(\"AH Premium\", fontsize = 16, fontweight = 'bold')\n",
    "ax1.set_xlabel(\"Date\")\n",
    "ax1.set_ylabel(\"A Share Premium\")\n",
    "ax1.spines[\"top\"].set_visible(False) \n",
    "ax1.spines[\"right\"].set_visible(False) \n",
    "ax1.set_ylim(75,145)\n",
    "\n",
    "#add AH Stock Connect start line\n",
    "ax1.axvline(datetime(2014,11,17), linestyle = 'dotted', color = 'blue', linewidth = .75)\n",
    "#add annotations to first plot\n",
    "ax1.annotate(\n",
    "    \"Implementation of AH Stock Connect\",\n",
    "    xy = (datetime(2014,11,17), 95),\n",
    "    xytext = (datetime(2015,3,1),85),\n",
    "    arrowprops={\n",
    "        \"arrowstyle\": \"-|>\", \n",
    "        \"connectionstyle\": \"angle3,angleA=25,angleB=150\",\n",
    "        \"color\": \"black\"\n",
    "        },\n",
    "    fontsize=9, \n",
    ")\n",
    "\n",
    "x2 = ah_index.index.tolist()\n",
    "y2 = ah_index.tolist()\n",
    "ax2.plot(x1, y1, color = 'black', linewidth = .5)\n",
    "\n",
    "#formating plot\n",
    "ax2.set_title(\"Premium surrounding AH Stock Connect Launch\", fontsize = 11, fontstyle = 'oblique')\n",
    "ax2.set_xlabel(\"Date\")\n",
    "ax2.set_ylabel(\"A Share Premium\")\n",
    "ax2.spines[\"top\"].set_visible(False) \n",
    "ax2.spines[\"right\"].set_visible(False) \n",
    "ax2.set_ylim(75,145)\n",
    "ax2.set_xlim(datetime(2014,10,1),datetime(2015,2,1))\n",
    "\n",
    "#change axis labels to months\n",
    "months = mdates.MonthLocator()\n",
    "months_fmt = mdates.DateFormatter('%m-%Y')\n",
    "ax2.xaxis.set_major_locator(months)\n",
    "ax2.xaxis.set_major_formatter(months_fmt)\n",
    "ax2.xaxis.set_major_locator(plt.MaxNLocator(5))\n",
    "\n",
    "#add AH Stock Connect start line\n",
    "ax2.axvline(datetime(2014,11,17), linestyle = 'dashed', color = 'red', linewidth = .75)\n",
    "\n",
    "#add annotations to second plot\n",
    "ax2.annotate(\n",
    "    \"Nov. 17, 2014\",\n",
    "    xy = (datetime(2014,11,17), 105),\n",
    "    xytext = (datetime(2014,10,5),110),\n",
    "    arrowprops={\n",
    "        \"arrowstyle\": \"-|>\", \n",
    "        \"connectionstyle\": \"angle3,angleA=20,angleB=160\",\n",
    "        \"color\": \"black\"\n",
    "        },\n",
    "    fontsize=9, \n",
    ")\n",
    "for ax in fig.axes:\n",
    "    plt.sca(ax)\n",
    "    plt.xticks(rotation=45)"
   ]
  },
  {
   "cell_type": "code",
   "execution_count": 31,
   "metadata": {},
   "outputs": [
    {
     "data": {
      "text/html": [
       "<div>\n",
       "<style scoped>\n",
       "    .dataframe tbody tr th:only-of-type {\n",
       "        vertical-align: middle;\n",
       "    }\n",
       "\n",
       "    .dataframe tbody tr th {\n",
       "        vertical-align: top;\n",
       "    }\n",
       "\n",
       "    .dataframe thead th {\n",
       "        text-align: right;\n",
       "    }\n",
       "</style>\n",
       "<table border=\"1\" class=\"dataframe\">\n",
       "  <thead>\n",
       "    <tr style=\"text-align: right;\">\n",
       "      <th></th>\n",
       "      <th>Index</th>\n",
       "    </tr>\n",
       "  </thead>\n",
       "  <tbody>\n",
       "    <tr>\n",
       "      <th>2012-06-01</th>\n",
       "      <td>98.916186</td>\n",
       "    </tr>\n",
       "    <tr>\n",
       "      <th>2012-06-04</th>\n",
       "      <td>99.513119</td>\n",
       "    </tr>\n",
       "    <tr>\n",
       "      <th>2012-06-05</th>\n",
       "      <td>99.958836</td>\n",
       "    </tr>\n",
       "    <tr>\n",
       "      <th>2012-06-06</th>\n",
       "      <td>100.202850</td>\n",
       "    </tr>\n",
       "  </tbody>\n",
       "</table>\n",
       "</div>"
      ],
      "text/plain": [
       "                 Index\n",
       "2012-06-01   98.916186\n",
       "2012-06-04   99.513119\n",
       "2012-06-05   99.958836\n",
       "2012-06-06  100.202850"
      ]
     },
     "execution_count": 31,
     "metadata": {},
     "output_type": "execute_result"
    }
   ],
   "source": [
    "ah_df = pd.DataFrame(data = ah_index, index = ah_index.index)\n",
    "ah_df.columns = ['Index']\n",
    "ah_df.head(4)"
   ]
  },
  {
   "cell_type": "code",
   "execution_count": 32,
   "metadata": {},
   "outputs": [],
   "source": [
    "ah_df['Rolling StDev'] = ah_df['Index'].rolling(window = 30).std()\n",
    "ah_df['Rolling Mean'] = ah_df['Index'].rolling(window = 90).mean()"
   ]
  },
  {
   "cell_type": "code",
   "execution_count": 33,
   "metadata": {},
   "outputs": [
    {
     "data": {
      "text/plain": [
       "<matplotlib.legend.Legend at 0x118449978>"
      ]
     },
     "execution_count": 33,
     "metadata": {},
     "output_type": "execute_result"
    },
    {
     "data": {
      "image/png": "[encoded data removed]",
      "text/plain": [
       "<Figure size 720x216 with 2 Axes>"
      ]
     },
     "metadata": {},
     "output_type": "display_data"
    }
   ],
   "source": [
    "fig, ax1 = plt.subplots(figsize= (10,3))\n",
    "x1 = final_indiv.index.tolist()\n",
    "y1 = ah_index.tolist()\n",
    "x2 = ah_df.index.tolist()\n",
    "y2 = ah_df['Rolling Mean'].tolist()\n",
    "x3 = x2\n",
    "y3 = ah_df['Rolling StDev'].tolist()\n",
    "#formating plot\n",
    "ax1.plot(x1, y1, label = \"AH Premium Index\", color = 'grey', linewidth = .75)\n",
    "ax1.plot(x2, y2, label = \"Rolling Mean\", color = 'blue', linewidth = 1)\n",
    "\n",
    "\n",
    "ax1.set_title(\"AH Premium: Rolling Mean and Volatility\", fontsize = 16, fontweight = 'bold')\n",
    "ax1.set_xlabel(\"Date\")\n",
    "ax1.set_ylabel(\"A Share Premium\")\n",
    "ax1.spines[\"top\"].set_visible(False) \n",
    "ax2.spines[\"top\"].set_visible(False) \n",
    "ax1.set_ylim(75,140)\n",
    "\n",
    "#add AH Stock Connect start line\n",
    "ax1.axvline(datetime(2014,11,17), linestyle = 'dashed', color = 'red', linewidth = .75)\n",
    "#add annotations to first plot\n",
    "ax1.annotate(\n",
    "    \"Implementation of AH Stock Connect\",\n",
    "    xy = (datetime(2014,11,17), 185),\n",
    "    xytext = (datetime(2012,4,1),210),\n",
    "    arrowprops={\n",
    "        \"arrowstyle\": \"-|>\", \n",
    "        \"connectionstyle\": \"angle3,angleA=20,angleB=160\",\n",
    "        \"color\": \"black\"\n",
    "        },\n",
    "    fontsize=9, \n",
    ")\n",
    "\n",
    "#second axis\n",
    "ax2 = ax1.twinx()\n",
    "ax2.tick_params(axis = 'y', labelcolor = 'orange')\n",
    "ax2.set_ylabel('Standard Deviation (i = 30)')\n",
    "ax2.plot(x3, y3, color = 'orange', linewidth = 0.75)\n",
    "\n",
    "\n",
    "ax1.legend(loc = 'upper left')"
   ]
  },
  {
   "cell_type": "code",
   "execution_count": 34,
   "metadata": {},
   "outputs": [
    {
     "data": {
      "text/plain": [
       "Text(0.5, 1.0, 'AH Premium Confidence Interval')"
      ]
     },
     "execution_count": 34,
     "metadata": {},
     "output_type": "execute_result"
    },
    {
     "data": {
      "image/png": "[encoded data removed]",
      "text/plain": [
       "<Figure size 432x288 with 1 Axes>"
      ]
     },
     "metadata": {
      "needs_background": "light"
     },
     "output_type": "display_data"
    }
   ],
   "source": [
    "ah_df = pd.DataFrame(data = ah_index, index = ah_index.index)\n",
    "smooth = ah_df.rolling(100).mean()\n",
    "path_interval = ah_df.rolling(50).std()\n",
    "plt.plot(smooth, linewidth = 2)\n",
    "plt.fill_between(path_interval.index, (smooth-2*path_interval)[0],(smooth+2*path_interval)[0], color = 'b', alpha = 0.2)\n",
    "plt.title('AH Premium Confidence Interval', fontsize = 16, fontweight = 'bold')"
   ]
  },
  {
   "cell_type": "code",
   "execution_count": 35,
   "metadata": {},
   "outputs": [
    {
     "name": "stderr",
     "output_type": "stream",
     "text": [
      "/anaconda3/lib/python3.7/site-packages/ipykernel_launcher.py:5: SettingWithCopyWarning: \n",
      "A value is trying to be set on a copy of a slice from a DataFrame.\n",
      "Try using .loc[row_indexer,col_indexer] = value instead\n",
      "\n",
      "See the caveats in the documentation: http://pandas.pydata.org/pandas-docs/stable/indexing.html#indexing-view-versus-copy\n",
      "  \"\"\"\n",
      "/anaconda3/lib/python3.7/site-packages/ipykernel_launcher.py:6: SettingWithCopyWarning: \n",
      "A value is trying to be set on a copy of a slice from a DataFrame.\n",
      "Try using .loc[row_indexer,col_indexer] = value instead\n",
      "\n",
      "See the caveats in the documentation: http://pandas.pydata.org/pandas-docs/stable/indexing.html#indexing-view-versus-copy\n",
      "  \n"
     ]
    },
    {
     "data": {
      "text/plain": [
       "pandas.core.series.Series"
      ]
     },
     "execution_count": 35,
     "metadata": {},
     "output_type": "execute_result"
    }
   ],
   "source": [
    "heavy = [1, 2, 3, 4 , 5]\n",
    "light = [46, 47, 48, 49, 50]\n",
    "heaviest10pct = final_indiv[heavy]\n",
    "lightest10pct = final_indiv[light]\n",
    "heaviest10pct['Net'] = heaviest10pct.sum(axis = 1)/5\n",
    "lightest10pct['Net'] = lightest10pct.sum(axis = 1)/5\n",
    "heaviest10pct = heaviest10pct['Net']\n",
    "lightest10pct = lightest10pct['Net']\n",
    "type(heaviest10pct)"
   ]
  },
  {
   "cell_type": "code",
   "execution_count": 36,
   "metadata": {},
   "outputs": [
    {
     "data": {
      "text/plain": [
       "<matplotlib.legend.Legend at 0x11709ec88>"
      ]
     },
     "execution_count": 36,
     "metadata": {},
     "output_type": "execute_result"
    },
    {
     "data": {
      "image/png": "[encoded data removed]",
      "text/plain": [
       "<Figure size 648x288 with 1 Axes>"
      ]
     },
     "metadata": {
      "needs_background": "light"
     },
     "output_type": "display_data"
    }
   ],
   "source": [
    "fig, ax1 = plt.subplots(figsize= (9,4))\n",
    "x1 = final_indiv.index.tolist()\n",
    "y1 = ah_index.tolist()\n",
    "x2 = heaviest10pct.index.tolist()\n",
    "y2 = heaviest10pct.tolist()\n",
    "x3 = lightest10pct.index.tolist()\n",
    "y3 = lightest10pct.tolist()\n",
    "#formating plot\n",
    "ax1.plot(x1, y1, label = \"AH Premium Index\", color = 'black', linewidth = .375)\n",
    "ax1.plot(x2, y2, label = \"5 Highest Unweighted Holdings\", color = 'blue', linewidth = .75)\n",
    "ax1.plot(x3, y3, label = \"5 Smallest Unweighted Holdings\", color = 'green', linewidth = .75)\n",
    "ax1.set_title(\"AH Premium: Top and Bottom 5 Holdings\", fontsize = 16, fontweight = 'bold')\n",
    "ax1.set_xlabel(\"Date\")\n",
    "ax1.set_ylabel(\"A Share Premium\")\n",
    "ax1.spines[\"top\"].set_visible(False) \n",
    "ax1.spines[\"right\"].set_visible(False) \n",
    "ax1.set_ylim(75,250)\n",
    "\n",
    "#add AH Stock Connect start line\n",
    "ax1.axvline(datetime(2014,11,17), linestyle = 'dashed', color = 'red', linewidth = .75)\n",
    "#add annotations to first plot\n",
    "ax1.annotate(\n",
    "    \"Implementation of AH Stock Connect\",\n",
    "    xy = (datetime(2014,11,17), 185),\n",
    "    xytext = (datetime(2012,4,1),210),\n",
    "    arrowprops={\n",
    "        \"arrowstyle\": \"-|>\", \n",
    "        \"connectionstyle\": \"angle3,angleA=20,angleB=160\",\n",
    "        \"color\": \"black\"\n",
    "        },\n",
    "    fontsize=9, \n",
    ")\n",
    "\n",
    "#handles, labels = ax1.get_legend_handles_labels()\n",
    "#ax1.legend(handles, labels)\n",
    "ax1.legend(loc = 'upper right')"
   ]
  },
  {
   "cell_type": "code",
   "execution_count": null,
   "metadata": {},
   "outputs": [],
   "source": []
  },
  {
   "cell_type": "code",
   "execution_count": null,
   "metadata": {},
   "outputs": [],
   "source": []
  },
  {
   "cell_type": "code",
   "execution_count": null,
   "metadata": {},
   "outputs": [],
   "source": []
  },
  {
   "cell_type": "code",
   "execution_count": null,
   "metadata": {},
   "outputs": [],
   "source": []
  },
  {
   "cell_type": "code",
   "execution_count": null,
   "metadata": {},
   "outputs": [],
   "source": []
  }
 ],
 "metadata": {
  "kernelspec": {
   "display_name": "Python 3",
   "language": "python",
   "name": "python3"
  },
  "language_info": {
   "codemirror_mode": {
    "name": "ipython",
    "version": 3
   },
   "file_extension": ".py",
   "mimetype": "text/x-python",
   "name": "python",
   "nbconvert_exporter": "python",
   "pygments_lexer": "ipython3",
   "version": "3.7.1"
  }
 },
 "nbformat": 4,
 "nbformat_minor": 2
}
